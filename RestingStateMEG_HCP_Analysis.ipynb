{
 "cells": [
  {
   "cell_type": "markdown",
   "metadata": {},
   "source": [
    "## Similarities in Dynamical Systems of Human Brain Resting States Inferred from Human Connectome Project MEG Data\n",
    "\n",
    "Here, we demonstrate the similarities between inferred human brain resting state networks across various patients found in the Human Connectome Project (HCP) MEG2 data release. \n",
    "\n",
    "Resting state connectivities between MEG channels in sensor space are inferred and further analyzed to discover any commonalities between groups of patients found in the HCP database. \n",
    "\n",
    "The necessary packages are first imported to the Jupyter notebook **below:**"
   ]
  },
  {
   "cell_type": "code",
   "execution_count": 1,
   "metadata": {},
   "outputs": [],
   "source": [
    "import matplotlib.pyplot as plt\n",
    "import numpy as np\n",
    "from scipy.stats.mstats import linregress\n",
    "%matplotlib inline"
   ]
  },
  {
   "cell_type": "markdown",
   "metadata": {},
   "source": [
    "### Importing the Inference Code\n",
    "The **main** function for the inference script is also imported to the notebook, which works to generate all the connectivities and time shift covariances between channels for every given patient in the HCP database. \n",
    "\n",
    "Entry i, j **connectivities (W) matrix** can be thought of as weights describing the effect that the ith channel has on jth channel of the MEG machine used to record data. \n",
    "\n",
    "Entry i, j in the **time shift covariances matrix**  can be thought of as the covariance between the ith channel and the jth channel at a given timeshift. This given timeshift is unitless, and depends on the sampling frequency given by the MEG recording. "
   ]
  },
  {
   "cell_type": "code",
   "execution_count": 2,
   "metadata": {},
   "outputs": [],
   "source": [
    "import RestingStateMEG_HCP_Inference"
   ]
  },
  {
   "cell_type": "markdown",
   "metadata": {},
   "source": [
    "### Setting the parameters for running the script\n",
    "We must first set the parameters for the script, which includes the list of identifiers for the specific patients within the HCP database that we would like to analyze, the number of PCA components (principal MEG channels) used for the inference, and the size of the time shift for the generation of time shift covariances between the MEG channels. \n",
    "\n",
    "Below, all 88 patients' identifiers are listed for processing"
   ]
  },
  {
   "cell_type": "code",
   "execution_count": 3,
   "metadata": {},
   "outputs": [],
   "source": [
    "pca_components = 10\n",
    "time_shift = 10\n",
    "dataset_ids = ['100307', '102816', '105923', '106521', '108323', '109123', '111514', '112920', \n",
    "               '116524', '116726', '133019', '140117', '146129', '149741', '153732', '154532', \n",
    "               '156334', '158136', '162026', '162935', '164636', '166438', '169040', '172029', \n",
    "               '174841', '175237', '175540', '177746', '179245', '181232', '185442', '187547', \n",
    "               '189349', '191033', '191437', '191841', '192641', '195041', '198653', '204521', \n",
    "               '205119', '212318', '212823', '214524', '221319', '223929', '233326', '248339', \n",
    "               '250427', '255639', '257845', '283543', '287248', '293748', '352132', '352738', \n",
    "               '353740', '358144', '406836', '433839', '512835', '555348', '559053', '568963', \n",
    "               '581450', '599671', '601127', '660951', '662551', '665254', '667056', '679770', \n",
    "               '680957', '706040', '707749', '715950', '725751', '735148', '783462', '814649',\n",
    "               '825048', '872764', '877168', '891667', '898176', '912447', '917255', '990366']"
   ]
  },
  {
   "cell_type": "markdown",
   "metadata": {},
   "source": [
    "### Important Variables \n",
    "We can finally run the main script, which will produce five variables needed for further analysis of the inference on the MEG data\n",
    "\n",
    "1. allwmatrices\n",
    "2. allsigs\n",
    "3. allbiases\n",
    "4. pca_data_dict\n",
    "\n",
    "**allwmatrices** contains all the w matrices for the given dataset of patients by the user. **allsigs** and **allbiases** contains the sigma and bias values recovered from the inference function which are needed to simulate data and help to prove the predictive capabilities of the inference function. Lastly **pca_data_dict** is a dictionary that contains the transformed data from the Principal Components Analysis on the original MEG data with patient identifiers as keys. "
   ]
  },
  {
   "cell_type": "code",
   "execution_count": null,
   "metadata": {},
   "outputs": [],
   "source": [
    "allwmatrices, allsigs, allbiases, pca_data_dict = RestingStateMEG_HCP_Inference.hcp_inference(dataset_ids, pca_components, time_shift)"
   ]
  },
  {
   "cell_type": "markdown",
   "metadata": {},
   "source": [
    "### Testing the Predictive Power of the Network Inference\n",
    "After these 4 variables are collected, we can then proceed to plot and analyze the results of the inference on the MEG dataset. To test the predictive capabilities of the W matrix formed from the inference for each patient, we can compare the time shift covariance of the MEG recording (that has already undergone a PCA transformation with the number of components given by the user) with the time shift covariance of a simulated dataset (which is simulated using the same W matrix computed from the MEG recording). \n",
    "\n",
    "If the W matrix is predictive, we would expect to see a very high correlation within the plots between the time shift covariance matrices, as this means that the simulated data from the W matrix exhibits very similar time shift relationships between MEG channels as the non-simulated MEG recording"
   ]
  },
  {
   "cell_type": "code",
   "execution_count": null,
   "metadata": {
    "scrolled": true
   },
   "outputs": [],
   "source": [
    "# allwmatrices is a dictionary with patient identifiers as keys. allwmatrices[key] will return the w matrix \n",
    "# for that specific patient\n",
    "\n",
    "fig = plt.figure()\n",
    "\n",
    "plot_counter = 1\n",
    "for patient in allwmatrices:\n",
    "    w = allwmatrices[patient]\n",
    "    sig = allsigs[patient]\n",
    "    bias = allbiases[patient]\n",
    "    \n",
    "    x_original = pca_data_dict[patient].T\n",
    "    \n",
    "    # simulate MEG timecourse data using the w, sigma, and bias computed from the inference code\n",
    "    simulated_data = RestingStateMEG_HCP_Inference.simulate(pca_components, 1018, w=w, sigma=sig, rho=0, bias=bias)\n",
    "    \n",
    "    # compute the time shift covariance matrices for the 'original' (transformed PCA MEG timecourse) and simulated data\n",
    "    tsc_original = RestingStateMEG_HCP_Inference.time_shift_cov(x_original, shift=10)\n",
    "    tsc_simulated = RestingStateMEG_HCP_Inference.time_shift_cov(simulated_data[0], shift=time_shift)\n",
    "    \n",
    "    plt.subplot2grid((22,4),(int(plot_counter/4),plot_counter%4))\n",
    "    plt.title('Patient ' + str(patient))\n",
    "    plt.xlabel('time_shift_cov original')\n",
    "    plt.ylabel('time_shift_cov simulated')\n",
    "    plt.plot(tsc_original, tsc_simulated, 'ko', alpha=0.5)\n",
    "    plt.plot([-1, 1], [-1,1], 'r--')\n",
    "    plt.show()\n",
    "    \n",
    "\n",
    "plt.show()\n",
    "\n"
   ]
  },
  {
   "cell_type": "markdown",
   "metadata": {},
   "source": [
    "### Clustering of W matrices\n",
    "\n",
    "Interestingly, a spectral clustering analysis of all the computed W matrices for the patients in the HCP database leads to the formation of several groups of similar W matrices, indicating shared resting state brain networks among different patients. "
   ]
  },
  {
   "cell_type": "code",
   "execution_count": null,
   "metadata": {},
   "outputs": [],
   "source": [
    "# spectral clustering, spectrally cluster the W matrices of all the patients to see if certain patients fall into \n",
    "# certain categories. Do for all 88 patients\n",
    "\n",
    "def wmatrix_clustering_prepare(allwmatrices):\n",
    "    flattened_wmatrix_array = []\n",
    "    unflattened_wmatrix_dict = {}\n",
    "    counter = 0\n",
    "    for patient in allwmatrices:\n",
    "        flattened_matrix = allwmatrices[patient].flatten()\n",
    "        unflattened_wmatrix_dict[counter] = allwmatrices[patient]\n",
    "        if len(flattened_wmatrix_array) == 0:\n",
    "            flattened_wmatrix_array = [flattened_matrix]\n",
    "        else:\n",
    "            flattened_wmatrix_array.append(flattened_matrix)\n",
    "        counter = counter + 1\n",
    "    return flattened_wmatrix_array, unflattened_wmatrix_dict\n",
    "\n",
    "flattened_wmatrix_array, unflattened_wmatrix_dict = wmatrix_clustering_prepare(allwmatrices)\n",
    "print(np.array(flattened_wmatrix_array).shape)\n",
    "print(unflattened_wmatrix_dict)"
   ]
  }
 ],
 "metadata": {
  "kernelspec": {
   "display_name": "Python 3",
   "language": "python",
   "name": "python3"
  },
  "language_info": {
   "codemirror_mode": {
    "name": "ipython",
    "version": 3
   },
   "file_extension": ".py",
   "mimetype": "text/x-python",
   "name": "python",
   "nbconvert_exporter": "python",
   "pygments_lexer": "ipython3",
   "version": "3.7.3"
  }
 },
 "nbformat": 4,
 "nbformat_minor": 2
}
